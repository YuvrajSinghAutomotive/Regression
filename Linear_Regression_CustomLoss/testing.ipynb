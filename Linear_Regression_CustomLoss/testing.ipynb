{
 "nbformat": 4,
 "nbformat_minor": 2,
 "metadata": {
  "language_info": {
   "name": "python",
   "codemirror_mode": {
    "name": "ipython",
    "version": 3
   },
   "version": "3.7.5-final"
  },
  "orig_nbformat": 2,
  "file_extension": ".py",
  "mimetype": "text/x-python",
  "name": "python",
  "npconvert_exporter": "python",
  "pygments_lexer": "ipython3",
  "version": 3,
  "kernelspec": {
   "name": "python37564bitbaseconda5975d6de41a94030a5fc70071df99a21",
   "display_name": "Python 3.7.5 64-bit ('base': conda)"
  }
 },
 "cells": [
  {
   "cell_type": "code",
   "execution_count": 9,
   "metadata": {},
   "outputs": [
    {
     "name": "stdout",
     "output_type": "stream",
     "text": "[1 2 2 3 4]\n[None None None None None]\nTrue\n"
    }
   ],
   "source": [
    "import numpy as np\n",
    "beta_init = np.array([1,2,2,3,4])\n",
    "beta = np.full((beta_init.shape),[None])\n",
    "print(beta_init)\n",
    "print(beta)\n",
    "assert len(beta) == len(beta_init)\n",
    "print(len(beta) == len(beta_init))\n"
   ]
  },
  {
   "cell_type": "code",
   "execution_count": null,
   "metadata": {},
   "outputs": [],
   "source": [
    "# LOSS FUNCTIONS\n",
    "class Loss:\n",
    "    def __init__(self):\n",
    "        pass\n",
    "    def SSE(self):\n",
    "        pass\n",
    "    def MSE(self):\n",
    "        pass\n",
    "    def RMSE(self):\n",
    "        pass\n",
    "    def SAE(self):\n",
    "        pass\n",
    "    def MAE(self):\n",
    "        pass\n",
    "    def huber(self,delta):\n",
    "        pass\n",
    "    # IN CASE YOU WANT TO DEFINE A CUSTOM LOSS FUNCTION\n",
    "    def custom_loss(self):\n",
    "        pass\n",
    "\n",
    "# MODELS\n",
    "class Model:\n",
    "    def __init__(self,X,Y,Loss):\n",
    "        pass\n",
    "    def objective(self):\n",
    "        pass\n",
    "    def fit(self):\n",
    "        pass    \n",
    "\n",
    "# Define inherited model classes\n",
    "class Linear(Model):\n",
    "    def predict(self):\n",
    "        pass\n",
    "    def regularization(self):\n",
    "        pass\n",
    "\n",
    "class Polynomial(Model):\n",
    "    def predict(self):\n",
    "        pass\n",
    "    def regularization(self):\n",
    "        pass\n",
    "\n",
    "# IN CASE YOU NEED TO DEFINE A CUSTOM MODEL\n",
    "class CustomModel(Model):\n",
    "    def predict(self):\n",
    "        pass\n",
    "    def regularization(self):\n",
    "        pass\n",
    "\n",
    "#  MODEL VALIDATION\n",
    "class Validator:\n",
    "    def __init__(self,X,Y,weights):\n",
    "        pass\n",
    "    def holdout(self,holdout_ratio): # you have the option of whether you want a holdout set or not\n",
    "        pass\n",
    "\n",
    "# Define inherited validation methods\n",
    "class NoCV(Validator):\n",
    "    def TestTrainSplit(self,split_ratio):\n",
    "        pass\n",
    "\n",
    "class CV(Validator):\n",
    "    def LOOCV(self):\n",
    "        pass\n",
    "    def Kfold(self,numfolds):\n",
    "        pass\n",
    "    def MonteCarlo(self):\n",
    "        pass\n",
    "\n"
   ]
  }
 ]
}